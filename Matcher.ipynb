{
  "nbformat": 4,
  "nbformat_minor": 0,
  "metadata": {
    "colab": {
      "provenance": [],
      "authorship_tag": "ABX9TyN5vs3vivKqwfjLRZv/xhtJ",
      "include_colab_link": true
    },
    "kernelspec": {
      "name": "python3",
      "display_name": "Python 3"
    },
    "language_info": {
      "name": "python"
    }
  },
  "cells": [
    {
      "cell_type": "markdown",
      "metadata": {
        "id": "view-in-github",
        "colab_type": "text"
      },
      "source": [
        "<a href=\"https://colab.research.google.com/github/AmolLondhe1234/Python_Project/blob/main/Matcher.ipynb\" target=\"_parent\"><img src=\"https://colab.research.google.com/assets/colab-badge.svg\" alt=\"Open In Colab\"/></a>"
      ]
    },
    {
      "cell_type": "code",
      "execution_count": null,
      "metadata": {
        "colab": {
          "base_uri": "https://localhost:8080/"
        },
        "id": "TflMDFLI2e-6",
        "outputId": "ade569d7-149a-46db-9a09-0b651ed3bb90"
      },
      "outputs": [
        {
          "output_type": "stream",
          "name": "stdout",
          "text": [
            "Looking in indexes: https://pypi.org/simple, https://us-python.pkg.dev/colab-wheels/public/simple/\n",
            "Requirement already satisfied: pip in /usr/local/lib/python3.9/dist-packages (23.0.1)\n",
            "Looking in indexes: https://pypi.org/simple, https://us-python.pkg.dev/colab-wheels/public/simple/\n",
            "Requirement already satisfied: spacy in /usr/local/lib/python3.9/dist-packages (3.5.1)\n",
            "Requirement already satisfied: wasabi<1.2.0,>=0.9.1 in /usr/local/lib/python3.9/dist-packages (from spacy) (1.1.1)\n",
            "Requirement already satisfied: spacy-loggers<2.0.0,>=1.0.0 in /usr/local/lib/python3.9/dist-packages (from spacy) (1.0.4)\n",
            "Requirement already satisfied: pathy>=0.10.0 in /usr/local/lib/python3.9/dist-packages (from spacy) (0.10.1)\n",
            "Requirement already satisfied: numpy>=1.15.0 in /usr/local/lib/python3.9/dist-packages (from spacy) (1.22.4)\n",
            "Requirement already satisfied: srsly<3.0.0,>=2.4.3 in /usr/local/lib/python3.9/dist-packages (from spacy) (2.4.6)\n",
            "Requirement already satisfied: packaging>=20.0 in /usr/local/lib/python3.9/dist-packages (from spacy) (23.0)\n",
            "Requirement already satisfied: pydantic!=1.8,!=1.8.1,<1.11.0,>=1.7.4 in /usr/local/lib/python3.9/dist-packages (from spacy) (1.10.7)\n",
            "Requirement already satisfied: murmurhash<1.1.0,>=0.28.0 in /usr/local/lib/python3.9/dist-packages (from spacy) (1.0.9)\n",
            "Requirement already satisfied: typer<0.8.0,>=0.3.0 in /usr/local/lib/python3.9/dist-packages (from spacy) (0.7.0)\n",
            "Requirement already satisfied: smart-open<7.0.0,>=5.2.1 in /usr/local/lib/python3.9/dist-packages (from spacy) (6.3.0)\n",
            "Requirement already satisfied: requests<3.0.0,>=2.13.0 in /usr/local/lib/python3.9/dist-packages (from spacy) (2.27.1)\n",
            "Requirement already satisfied: tqdm<5.0.0,>=4.38.0 in /usr/local/lib/python3.9/dist-packages (from spacy) (4.65.0)\n",
            "Requirement already satisfied: setuptools in /usr/local/lib/python3.9/dist-packages (from spacy) (67.6.1)\n",
            "Requirement already satisfied: catalogue<2.1.0,>=2.0.6 in /usr/local/lib/python3.9/dist-packages (from spacy) (2.0.8)\n",
            "Requirement already satisfied: jinja2 in /usr/local/lib/python3.9/dist-packages (from spacy) (3.1.2)\n",
            "Requirement already satisfied: langcodes<4.0.0,>=3.2.0 in /usr/local/lib/python3.9/dist-packages (from spacy) (3.3.0)\n",
            "Requirement already satisfied: cymem<2.1.0,>=2.0.2 in /usr/local/lib/python3.9/dist-packages (from spacy) (2.0.7)\n",
            "Requirement already satisfied: spacy-legacy<3.1.0,>=3.0.11 in /usr/local/lib/python3.9/dist-packages (from spacy) (3.0.12)\n",
            "Requirement already satisfied: preshed<3.1.0,>=3.0.2 in /usr/local/lib/python3.9/dist-packages (from spacy) (3.0.8)\n",
            "Requirement already satisfied: thinc<8.2.0,>=8.1.8 in /usr/local/lib/python3.9/dist-packages (from spacy) (8.1.9)\n",
            "Requirement already satisfied: typing-extensions>=4.2.0 in /usr/local/lib/python3.9/dist-packages (from pydantic!=1.8,!=1.8.1,<1.11.0,>=1.7.4->spacy) (4.5.0)\n",
            "Requirement already satisfied: idna<4,>=2.5 in /usr/local/lib/python3.9/dist-packages (from requests<3.0.0,>=2.13.0->spacy) (3.4)\n",
            "Requirement already satisfied: urllib3<1.27,>=1.21.1 in /usr/local/lib/python3.9/dist-packages (from requests<3.0.0,>=2.13.0->spacy) (1.26.15)\n",
            "Requirement already satisfied: charset-normalizer~=2.0.0 in /usr/local/lib/python3.9/dist-packages (from requests<3.0.0,>=2.13.0->spacy) (2.0.12)\n",
            "Requirement already satisfied: certifi>=2017.4.17 in /usr/local/lib/python3.9/dist-packages (from requests<3.0.0,>=2.13.0->spacy) (2022.12.7)\n",
            "Requirement already satisfied: blis<0.8.0,>=0.7.8 in /usr/local/lib/python3.9/dist-packages (from thinc<8.2.0,>=8.1.8->spacy) (0.7.9)\n",
            "Requirement already satisfied: confection<1.0.0,>=0.0.1 in /usr/local/lib/python3.9/dist-packages (from thinc<8.2.0,>=8.1.8->spacy) (0.0.4)\n",
            "Requirement already satisfied: click<9.0.0,>=7.1.1 in /usr/local/lib/python3.9/dist-packages (from typer<0.8.0,>=0.3.0->spacy) (8.1.3)\n",
            "Requirement already satisfied: MarkupSafe>=2.0 in /usr/local/lib/python3.9/dist-packages (from jinja2->spacy) (2.1.2)\n",
            "Looking in indexes: https://pypi.org/simple, https://us-python.pkg.dev/colab-wheels/public/simple/\n",
            "Requirement already satisfied: nltk in /usr/local/lib/python3.9/dist-packages (3.8.1)\n",
            "Requirement already satisfied: click in /usr/local/lib/python3.9/dist-packages (from nltk) (8.1.3)\n",
            "Requirement already satisfied: joblib in /usr/local/lib/python3.9/dist-packages (from nltk) (1.2.0)\n",
            "Requirement already satisfied: tqdm in /usr/local/lib/python3.9/dist-packages (from nltk) (4.65.0)\n",
            "Requirement already satisfied: regex>=2021.8.3 in /usr/local/lib/python3.9/dist-packages (from nltk) (2022.10.31)\n"
          ]
        }
      ],
      "source": [
        "!pip install --upgrade pip\n",
        "!pip install spacy\n",
        "!pip install nltk\n",
        "!pip install deepmultilingualpunctuation \n",
        "!pip install tqdm\n",
        "!python -m nltk.downloader punkt\n",
        "!python -m nltk.downloader stopwords words\n",
        "!python -m spacy download en_core_web_lg\n",
        "!pip install transformers[sentencepiece]"
      ]
    },
    {
      "cell_type": "code",
      "source": [
        "import spacy\n",
        "from spacy.matcher import Matcher\n",
        "import pandas as pd\n",
        "import re\n",
        "import nltk\n",
        "from deepmultilingualpunctuation import PunctuationModel\n",
        "import tqdm\n",
        "punc_model = PunctuationModel() \n",
        "import string"
      ],
      "metadata": {
        "colab": {
          "base_uri": "https://localhost:8080/"
        },
        "id": "IiIwL-4D2kUK",
        "outputId": "44a8efb8-fdb1-4922-a489-2c81d660042d"
      },
      "execution_count": 1,
      "outputs": [
        {
          "output_type": "stream",
          "name": "stderr",
          "text": [
            "/usr/local/lib/python3.9/dist-packages/transformers/pipelines/token_classification.py:157: UserWarning: `grouped_entities` is deprecated and will be removed in version v5.0.0, defaulted to `aggregation_strategy=\"none\"` instead.\n",
            "  warnings.warn(\n"
          ]
        }
      ]
    },
    {
      "cell_type": "code",
      "source": [
        "nlp = spacy.load(\"en_core_web_lg\")\n",
        "matcher = Matcher(nlp.vocab)\n",
        "def search_insted_result(wn): \n",
        "  wn = re.sub('([A-Z])', r' \\1', wn) \n",
        "  return wn.strip()\n",
        "  \n",
        "def reform(jd): \n",
        "  jd_com= [] \n",
        "  doc = nlp(jd) \n",
        "  for token in doc: \n",
        "    jd_com.append(token.text)\n",
        "    \n",
        "  jd_com = (list(set(jd_com))) \n",
        "  words = set(nltk.corpus.words.words()) \n",
        "  non_en = [] \n",
        "  \n",
        "  for w in tqdm.tqdm(jd_com): \n",
        "    if w.lower() not in words: \n",
        "      non_en.append(w)\n",
        "      \n",
        "  mapper={} \n",
        "  non_en = [re.sub('[^a-zA-Z0-9]+', '', _) for _ in non_en] \n",
        "  non_en = [re.sub(r'[0-9]+', '', _) for _ in non_en] \n",
        "  non_en = list(filter(None, non_en))\n",
        "  \n",
        "  for wn in non_en: \n",
        "    val = search_insted_result(wn) \n",
        "    if val!=-9999: \n",
        "      mapper[wn] = val\n",
        "      \n",
        "  for k in mapper.keys(): \n",
        "    jd = jd.replace(k, mapper[k]) \n",
        "  # print(mapper)\n",
        "  return jd\n",
        "job_description =\"\"\"        Niantic London is seeking a Creative Director to help lead the studio in its next project that encourages people to explore the world, together\n",
        " In this role youÃ¢Â€Â™ll hold the vision for a brand new game, working closely with the studio leadership team to bring it to life\n",
        "You will use your expertise to develop and champion a world-class mobile AR game experience\n",
        " Alongside the Senior Producer, you will bring your experience leading teams from Concept through to Production and Live Operations to the London Studio to drive the project forward\n",
        " YouÃ¢Â€Â™ll also be responsible for presenting the vision and strategy of the game to senior partners at Niantic\n",
        " As a hardworking, inspiring and inclusive leader, you will help to grow and establish the Niantic London Games Studio\n",
        "Responsibilities Define, communicate and be accountable for the creative vision of the project including the core loop, F2P mechanics, social features and IP development\n",
        " Ensure the project backlog is well-defined and understood\n",
        " Work with the design team to create robust design documentation\n",
        " Foster positive relationships with other senior leaders of the studio and within Niantic to deliver on the vision\n",
        " Represent the project and team to senior leaders, championing the team's needs and requirements\n",
        " Distil the businessÃ¢Â€Â™s strategic and commercial goals for the team, ensuring they are reflected in product and organisational decisions\n",
        " Take the lead on producing pitch materials for internal presentations\n",
        " Collaborate and align with Marketing to build commercial analysis, shape forecasts and drive successful marketing and UA campaigns\n",
        " Define and drive design standards for the team\n",
        " Provide strong leadership and career mentorship to support the creative goals and ambitions of the design team members\n",
        "  Qualifications An experienced Creative Director or Design Director with a proven track record in creating and maintaining design direction, and bringing it to fruition\n",
        " Strong understanding of free-to-play systems and economy design, validated by commercially successful products\n",
        " Free-to-Play mobile games experience in all production phases from Concept to Live Operations, having shipped at least one title as Creative Director or Lead Game Designer\n",
        " Demonstrated experience in building, leading and mentoring teams\n",
        " Adept at providing the support and space for more junior team members to work with appropriate autonomy while creating a coherent design that aligns with your vision\n",
        " Strong at providing constructive feedback that empowers team members to produce their best work\n",
        " Experience communicating a game vision to teams and stakeholders\n",
        " Skilled at developing productive relationships with peers and senior leaders, enabling you to work through complex situations to drive projects forward\n",
        " Exceptional written and verbal communication ability, with an emphasis on clearly explaining reasoning behind decisions\n",
        "  Plus IfÃ¢Â€Â¦ You have experience working on emerging hardware, augmented reality or location-based products\n",
        " You are excited to work with novel game mechanics and cutting edge technology\n",
        "  Join the Niantic team!Niantic is the worldÃ¢Â€Â™s leading AR technology company, sparking creative and engaging journeys in the real world\n",
        " Our products inspire outdoor exploration, exercise, and meaningful social interaction\n",
        "Originally formed at Google in 2011, we became an independent company in 2015 with a strong group of investors including Nintendo, The PokÃƒÂ©mon Company, and Alsop Louie Partners\n",
        " Our current titles include pioneering global-control game Ingress, record-breaking AR game PokÃƒÂ©mon GO, and recently released third title, Harry Potter: Wizards Unite\n",
        "Niantic is an Equal Opportunity employer\n",
        " We believe that cultivating a workplace where our people are supported and included is essential to creating great products our community will love\n",
        " Our mission emphasizes seeking and hiring diverse voices, including those who are traditionally underrepresented in the technology industry, and we consider this to be one of the most important values we hold close\n",
        "We're a hard-working, fun, and exciting group who value intellectual curiosity and a passion for problem-solving! We have growing offices located in San Francisco, Sunnyvale, Bellevue, Los Angeles, London, Tokyo, Hamburg, and Zurich\n",
        "\"\"\"\n",
        "doc = reform(job_description) \n",
        "def combine_words(doc):\n",
        "    # Merge words separated by spaces or single characters\n",
        "    combined = re.sub(r'\\b(\\w\\s)+\\w\\b', lambda m: m.group().replace(' ', ''), doc)\n",
        "    return combined\n",
        "doc=combine_words(doc)\n",
        "doc = punc_model.restore_punctuation(doc)\n",
        "print(doc)\n",
        "doc = nlp(doc)\n",
        "\n",
        "# for i in doc:\n",
        "#     print(i,\"->\",i.pos_)\n",
        "\n",
        "\n",
        "\n",
        "#Patterns================================================================================================================================================================================\n",
        "pattern1 = [{\"LOWER\": {\"IN\": [\"seeking\", \"looking\",\"have opportunity\",\"have opportunities\",\"opening\",\"openings\"]}}, {\"POS\": {\"IN\":[\"ADP\",\"SCONJ\"]}}]#m\n",
        "\n",
        "pattern2 = [{\"POS\": \"AUX\"}, {\"LOWER\": \"currently\"}, {\"LOWER\": {\"IN\": [\"looking\", \"seeking\",\"recruiting\"]}}]\n",
        "pattern3 = [{\"POS\": {\"IN\":[\"AUX\",\"DET\"]}}, {\"LOWER\": {\"IN\":[\"seeking\",\"needing\",\"needed\"]}}]\n",
        "pattern4 = [{\"LOWER\": {\"IN\": [\"experience\", \"experience\",\"exp\",]}},{\"POS\": \"ADP\"},{\"POS\": \"DET\"}]\n",
        "\n",
        "pattern5 = [{\"LOWER\": {\"IN\": [\"career\", \"employment\",\"job\",\"position\",\"role\",\"us\"]}}, {\"LOWER\": \"as\"}, {\"LOWER\": \"a\"}]#m\n",
        "\n",
        "pattern6 = [{\"POS\": \"NOUN\"}, {\"ORTH\": \"needed\"}, {\"POS\": {\"IN\": [\"NOUN\",\"ADJ\"]}}]\n",
        "pattern7 = [{\"LOWER\": \"are\"},{\"LOWER\": \"recruiting\"},{\"POS\":\"DET\"}]\n",
        "pattern8 = [{\"POS\": {\"IN\": [\"ADJ\",\"ADV\",\"DET\",\"VERB\"]}}, {\"LOWER\": {\"IN\": [\"vacancy\", \"opening\",\"position\",\"job\"]}}, {\"POS\": {\"IN\":[\"ADP\",\"SCONJ\"]}}, {\"POS\": {\"IN\":[\"DET\",\"PRON\"]}}]\n",
        "pattern9 = [{\"POS\": {\"IN\": [\"NOUN\",\"ADJ\"]}}, {\"LOWER\": \"required\"}, {\"POS\": \"ADP\"}, {\"POS\": {\"IN\":[\"NOUN\",\"DET\"]}}]\n",
        "pattern10 = [{\"LOWER\": \"need\"},{\"POS\":\"DET\"},{\"POS\":\"ADJ\"},{\"POS\":\"PROPN\"}]\n",
        "pattern11 = [{\"POS\": \"PROPN\"},{\"POS\": \"AUX\"}, {\"LOWER\":\"responsible\"},{\"LOWER\":\"for\"}]\n",
        "pattern12 = [{\"POS\": \"NOUN\"}, {\"ORTH\": \"wanted\"}, {\"POS\": {\"IN\": [\"NOUN\",\"ADJ\"]}}]\n",
        "pattern13 = [{\"POS\": {\"IN\": [\"ADJ\",\"ADV\"]}}, {\"LOWER\": {\"IN\": [\"opportunity\", \"chance\",\"opening\",\"position\"]}}, {\"POS\": {\"IN\":[\"ADP\",\"SCONJ\"]}}, {\"POS\": {\"IN\":[\"DET\",\"PRON\"]}}]\n",
        "pattern14 = [{\"POS\":\"PROPN\"},{\"POS\":\"PROPN\"},{\"LOWER\":\"role\"}]\n",
        "pattern15 = [{\"LOWER\":\"role\"},{\"POS\":\"ADP\"},{\"POS\":\"DET\"}]\n",
        "pattern16 =[{\"LOWER\":{\"IN\":[\"looking\",\"opportunity\"]}},{\"LOWER\":\"for\"}]\n",
        "pattern17 = [{\"POS\":\"ADJ\"},{\"LOWER\":\"as\"},{\"LOWER\":\"a\"},{\"POS\":\"PROPN\"}]\n",
        "pattern18 = [{\"LOWER\":\"searching\"},{\"LOWER\":\"for\"}]\n",
        "pattern19 = [{\"POS\":{\"IN\":[\"NOUN\",\"PROPN\"]}},{\"POS\":{\"IN\":[\"PROPN\",\"NOUN\"]}},{\"LOWER\":\"needed\"}]\n",
        "\n",
        "pattern20 = [{\"LOWER\":{\"IN\":[\"vacancy\",\"title\"]}},{\"LOWER\":\":\"},{\"POS\":\"PROPN\"},{\"POS\":\"PROPN\"}]#m0\n",
        "\n",
        "pattern21 =[{\"LOWER\":\"as\"},{\"LOWER\":\"a\"},{\"POS\":\"PROPN\"},{\"POS\":{\"IN\":[\"PROPN\",\"NOUN\"]}}]#m\n",
        "\n",
        "#============mClass0_basis_pattern======================================================================================================================================================\n",
        "pattern22 = [{\"POS\":\"NOUN\"},{\"POS\":\"PUNCT\"},{\"POS\":\"ADP\"},{\"POS\":\"PROPN\"},{\"POS\":\"PROPN\"}]#m0\n",
        "pattern23 = [{\"LOWER\":\"role\"},{\"LOWER\":\"of\"}]\n",
        "pattern24 = [{\"LOWER\":\"as\"},{\"LOWER\":\"an\"},{\"POS\":\"PROPN\"},{\"POS\":\"PROPN\"}]\n",
        "pattern25 =[{\"LOWER\":\"someone\"},{\"LOWER\":\"with\"},{\"POS\":\"DET\"},{\"POS\":\"PROPN\"},{\"POS\":\"PROPN\"}]\n",
        "pattern26 = [{\"POS\":\"PROPN\"},{\"LOWER\":\"to\"},{\"LOWER\":\"join\"}]\n",
        "pattern27 = [{\"LOWER\":\"vacancy-\"}]\n",
        "\n",
        "#=======================================================================================================================================================================================\n",
        "\n",
        "matcher.add(\"JOB_VACANCY\", [pattern1, pattern2, pattern3,pattern4,pattern5,pattern6,pattern7,pattern8,pattern9,pattern10,pattern11,pattern12,pattern13,pattern14,pattern15,pattern16,pattern17,pattern18,pattern19,pattern20,pattern21,pattern22,pattern23,pattern24,pattern25,pattern26,pattern27])\n",
        "matches = matcher(doc)\n",
        "# Keep track of sentences that have already been printed\n",
        "printed_sentences = set()\n",
        "\n",
        "for match_id, start, end in matches:\n",
        "    span = doc[start:end]\n",
        "    sentence = span.sent\n",
        "    if sentence.text in printed_sentences:\n",
        "        continue  \n",
        "    printed_sentences.add(sentence.text) \n",
        "    print(\"+++++++++++++++++++++++++++++++++++++++++++++++++++++++++++++++++++++++++++++++++++++++++++++++++++++++++\")\n",
        "    print(\"Found At Position:-\",start,\"To\",end)\n",
        "    print(\"\\n\")\n",
        "    print(\"\\n\")\n",
        "    print(printed_sentences)   \n",
        "\n",
        "    \n",
        "    \n"
      ],
      "metadata": {
        "colab": {
          "base_uri": "https://localhost:8080/"
        },
        "id": "adSD6SVs2oj7",
        "outputId": "4808516d-de75-4b7d-95a9-53e8321ace75"
      },
      "execution_count": 8,
      "outputs": [
        {
          "output_type": "stream",
          "name": "stderr",
          "text": [
            "100%|██████████| 367/367 [00:00<00:00, 323520.30it/s]\n"
          ]
        },
        {
          "output_type": "stream",
          "name": "stdout",
          "text": [
            "Niantic London is seeking a Creative Director to help lead the studio in its next project that encourages people to explore the world together. In this role, youÃ¢Â€Â™ll hold the vision for a brand new game, working closely with the studio leadership team to bring it to life. You will use your expertise to develop and champion a world-class mobile AR game experience. Alongside the Senior Producer, you will bring your experience leading teams from Concept through to Production and Live Operations to the London Studio to drive the project forward. YouÃ¢Â€Â™ll also be responsible for presenting the vision and strategy of the game to senior partners at Niantic. As a hardworking, inspiring and inclusive leader, you will help to grow and establish the Niantic London Games Studio Responsibilities. Define, communicate and be accountable for the creative vision of the project, including the core loop, F2P mechanics, social features and IP development. Ensure the project backlog is well-defined and understood. Work with the design team to create robust design documentation. Foster positive relationships with other senior leaders of the studio and within Niantic to deliver on the vision. Represent the project and team to senior leaders, championing the team's needs and requirements. Distil the businessÃ¢Â€Â™s strategic and commercial goals for the team, ensuring they are reflected in product and organisational decisions. Take the lead on producing pitch materials for internal presentations. Collaborate and align with Marketing to build commercial analysis, shape forecasts and drive successful marketing and UA campaigns. Define and drive design standards for the team. Provide strong leadership and career mentorship to support the creative goals and ambitions of the design team members. Qualifications: An experienced Creative Director or Design Director with a proven track record in creating and maintaining design direction and bringing it to fruition. Strong understanding of free-to-play systems and economy design, validated by commercially successful products. Free-to-Play mobile games. experience in all production phases, from Concept to Live Operations, having shipped at least one title as Creative Director or Lead Game Designer. Demonstrated experience in building, leading and mentoring teams. Adept at providing the support and space for more junior team members to work with appropriate autonomy while creating a coherent design that aligns with your vision. Strong at providing constructive feedback that empowers team members to produce their best work. Experience communicating a game vision to teams and stakeholders. Skilled at developing productive relationships with peers and senior leaders, enabling you to work through complex situations to drive projects forward. Exceptional written and verbal communication ability, with an emphasis on clearly explaining reasoning behind decisions. Plus, IfÃ¢Â€Â¦, You have experience working on emerging hardware, augmented reality or location-based products. You are excited to work with novel game mechanics and cutting edge technology. Join the Niantic teamNiantic is the worldÃ¢Â€Â™s leading AR technology company, sparking creative and engaging journeys in the real world. Our products inspire outdoor exploration, exercise and meaningful social interaction. Originally formed at Google in 2011,, we became an independent company in 2015 with a strong group of investors including Nintendo, The PokÃƒÂ©mon Company and Alsop Louie Partners. Our current titles include pioneering global-control game Ingress, record-breaking AR game, PokÃƒÂ©mon GO and recently released third title, Harry Potter Wizards Unite. Niantic is an Equal Opportunity employer. We believe that cultivating a workplace where our people are supported and included is essential to creating great products our community will love. Our mission emphasizes seeking and hiring diverse voices, including those who are traditionally underrepresented in the technology industry, and we consider this to be one of the most important values we hold close. We're a hard-working, fun and exciting group who value intellectual curiosity and a passion for problem-solving. We have growing offices located in San Francisco, Sunnyvale, Bellevue, Los Angeles, London, Tokyo, Hamburg and Zurich.\n",
            "+++++++++++++++++++++++++++++++++++++++++++++++++++++++++++++++++++++++++++++++++++++++++++++++++++++++++\n",
            "Found At Position:- 2 To 4\n",
            "\n",
            "\n",
            "\n",
            "\n",
            "NONE\n",
            "+++++++++++++++++++++++++++++++++++++++++++++++++++++++++++++++++++++++++++++++++++++++++++++++++++++++++\n",
            "Found At Position:- 367 To 370\n",
            "\n",
            "\n",
            "\n",
            "\n",
            "NONE\n"
          ]
        }
      ]
    },
    {
      "cell_type": "code",
      "source": [],
      "metadata": {
        "id": "j0Z5S0_h5pMP"
      },
      "execution_count": null,
      "outputs": []
    }
  ]
}